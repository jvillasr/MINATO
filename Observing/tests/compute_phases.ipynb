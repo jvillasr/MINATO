{
 "cells": [
  {
   "cell_type": "code",
   "execution_count": 2,
   "id": "421d4e44-3abc-4601-aa97-c7df61eecc82",
   "metadata": {},
   "outputs": [
    {
     "data": {
      "text/plain": [
       "3.6825"
      ]
     },
     "execution_count": 2,
     "metadata": {},
     "output_type": "execute_result"
    }
   ],
   "source": [
    "4.91*0.75"
   ]
  },
  {
   "cell_type": "code",
   "execution_count": 4,
   "id": "a27135e9-d47e-4dd9-8fab-e6390a868499",
   "metadata": {},
   "outputs": [
    {
     "data": {
      "text/plain": [
       "40.800000000000004"
      ]
     },
     "execution_count": 4,
     "metadata": {},
     "output_type": "execute_result"
    }
   ],
   "source": [
    "60*0.68"
   ]
  },
  {
   "cell_type": "code",
   "execution_count": 9,
   "id": "25f99306-d81b-42a9-baca-3e7db8edd989",
   "metadata": {},
   "outputs": [
    {
     "data": {
      "text/plain": [
       "2.82"
      ]
     },
     "execution_count": 9,
     "metadata": {},
     "output_type": "execute_result"
    }
   ],
   "source": [
    "3.76*0.75"
   ]
  },
  {
   "cell_type": "code",
   "execution_count": null,
   "id": "dc7d80c1-1cdb-4bb8-ae33-0225728b6cb8",
   "metadata": {},
   "outputs": [],
   "source": [
    "60*0.84"
   ]
  },
  {
   "cell_type": "code",
   "execution_count": 8,
   "id": "5b74d52f-a06c-4238-b6cb-8575c9c39bc3",
   "metadata": {},
   "outputs": [],
   "source": [
    "# 3:45, min 2:49 \n",
    "# spectro se tomo a las 00:32\n",
    "# 00:32 + 02:49 = 03:21 UT = 01:02 LST\n",
    "# 00:32 + 03:45 = 04:17 UT = 01:58 LST"
   ]
  },
  {
   "cell_type": "code",
   "execution_count": 14,
   "id": "3463639c-b818-4736-a96d-a004153e6c7d",
   "metadata": {},
   "outputs": [
    {
     "data": {
      "text/plain": [
       "56.4"
      ]
     },
     "execution_count": 14,
     "metadata": {},
     "output_type": "execute_result"
    }
   ],
   "source": [
    "60*0.24\n",
    "print(5.24*0.75)\n",
    "60*0.94\n",
    "# 05.24 h\n",
    "# 05:14, min 03:56\n",
    "# spectro se tomo a las 00:43\n",
    "# 00:43 + 03:56 = 04:39 UT = 02:20 LST\n",
    "# 00:43 + 05:14 = 05:57 UT = 03:38 LST"
   ]
  },
  {
   "cell_type": "code",
   "execution_count": 151,
   "id": "75d654ba-24c3-4706-b92b-86485c260417",
   "metadata": {},
   "outputs": [],
   "source": [
    "import astropy.units as u\n",
    "from astropy.time import Time\n",
    "from astropy.coordinates import SkyCoord, EarthLocation\n",
    "from astroplan import PeriodicEvent\n",
    "from astroplan import FixedTarget, Observer, is_observable\n",
    "# from astroplan import PhaseConstraint, AtNightConstraint, AltitudeConstraint\n",
    "from astroplan import AltitudeConstraint, AirmassConstraint, AtNightConstraint\n",
    "\n",
    "from decimal import Decimal\n",
    "import sys"
   ]
  },
  {
   "cell_type": "code",
   "execution_count": 34,
   "id": "9b903dc0-ae2a-4316-b98f-f8e231a3fdb2",
   "metadata": {},
   "outputs": [
    {
     "data": {
      "text/plain": [
       "<astroplan.periodic.PeriodicEvent at 0x7fbc11876b20>"
      ]
     },
     "execution_count": 34,
     "metadata": {},
     "output_type": "execute_result"
    }
   ],
   "source": [
    "lapalma = EarthLocation.of_site('lapalma')  \n",
    "first_epoch = Time('2022-09-03 22:28', scale='utc', location=lapalma)\n",
    "period = 1.64 * u.day  # period of periodic event\n",
    "duration = 2 * u.hour  # duration of event\n",
    "\n",
    "binary_system = PeriodicEvent(epoch=first_epoch, period=period)\n",
    "binary_system"
   ]
  },
  {
   "cell_type": "code",
   "execution_count": 23,
   "id": "10fee8e4-ec2b-4c33-aa6a-de4908512aeb",
   "metadata": {},
   "outputs": [
    {
     "name": "stdout",
     "output_type": "stream",
     "text": [
      "<FixedTarget \"Target\" at SkyCoord (ICRS): (ra, dec) in deg (282.707375, 24.71998333)>\n"
     ]
    },
    {
     "ename": "SystemExit",
     "evalue": "",
     "output_type": "error",
     "traceback": [
      "An exception has occurred, use %tb to see the full traceback.\n",
      "\u001b[0;31mSystemExit\u001b[0m\n"
     ]
    },
    {
     "name": "stderr",
     "output_type": "stream",
     "text": [
      "/Users/jaime/Science/Software/miniconda3/envs/astroc38/lib/python3.8/site-packages/IPython/core/interactiveshell.py:3406: UserWarning: To exit: use 'exit', 'quit', or Ctrl-D.\n",
      "  warn(\"To exit: use 'exit', 'quit', or Ctrl-D.\", stacklevel=1)\n"
     ]
    }
   ],
   "source": [
    "\n",
    "\n",
    "ra, dec = '18:50:49.77', '24:43:11.94'\n",
    "object_coords = SkyCoord(ra, dec, unit=(u.hourangle, u.deg))\n",
    "\n",
    "target = FixedTarget(object_coords, name='Target')\n",
    "print(target)\n",
    "sys.exit()\n",
    "\n",
    "\n",
    "\n",
    "start_time = Time('2017-01-01 01:00')\n",
    "end_time = Time('2017-01-01 06:00')\n",
    "\n",
    "constraints = [PhaseConstraint(binary_system, min=0.4, max=0.6),\n",
    "               AtNightConstraint.twilight_astronomical(),\n",
    "               AltitudeConstraint(min=40 * u.deg)]\n",
    "is_observable(constraints, greenwich, target, time_range=[start_time, end_time])"
   ]
  },
  {
   "cell_type": "code",
   "execution_count": 65,
   "id": "11dcc44b-ef45-4fcd-8efa-397b4cb18661",
   "metadata": {},
   "outputs": [
    {
     "name": "stdout",
     "output_type": "stream",
     "text": [
      "UT 2022-09-03 22:28:00.000\n",
      "ST 2022-09-03 20:11:00.000 \n",
      "\n",
      "UT 2022-09-04 03:22:36.000\n",
      "ST 2022-09-04 01:05:36.000 \n",
      "\n",
      "UT 2022-09-04 08:17:12.000\n",
      "ST 2022-09-04 06:00:12.000 \n",
      "\n",
      "UT 2022-09-04 13:11:48.000\n",
      "ST 2022-09-04 10:54:48.000 \n",
      "\n",
      "UT 2022-09-04 18:06:24.000\n",
      "ST 2022-09-04 15:49:24.000 \n",
      "\n",
      "UT 2022-09-04 23:01:00.000\n",
      "ST 2022-09-04 20:44:00.000 \n",
      "\n",
      "UT 2022-09-05 03:55:36.000\n",
      "ST 2022-09-05 01:38:36.000 \n",
      "\n",
      "UT 2022-09-05 08:50:12.000\n",
      "ST 2022-09-05 06:33:12.000 \n",
      "\n",
      "UT 2022-09-05 13:44:48.000\n",
      "ST 2022-09-05 11:27:48.000 \n",
      "\n",
      "UT 2022-09-05 18:39:24.000\n",
      "ST 2022-09-05 16:22:24.000 \n",
      "\n"
     ]
    }
   ],
   "source": [
    "current_ut = Time('2022-09-04 21:25:15', scale='utc', location=lapalma)\n",
    "current_st = Time('2022-09-04 19:09:38', scale='utc', location=lapalma)\n",
    "LST_conv = current_ut - current_st\n",
    "\n",
    "dT = 4.91*u.hour\n",
    "LST_conv = (2+17/60)*u.hour\n",
    "for i in range(10):\n",
    "    time_interv = first_epoch + i*dT\n",
    "    print('UT', time_interv)\n",
    "    ST = time_interv - LST_conv\n",
    "    print('ST', ST, '\\n')\n"
   ]
  },
  {
   "cell_type": "code",
   "execution_count": 274,
   "id": "432a47ac-6cb0-43e9-9102-fd3a11b3fc9a",
   "metadata": {},
   "outputs": [
    {
     "name": "stdout",
     "output_type": "stream",
     "text": [
      "\n",
      "  You have selected 8 epochs spaced by 6.42 h\n",
      "  The tolerance of your observations is 0.64 h or 38.52 min \n",
      "\n",
      "    OB1   00 2022-09-03 02:00:00.000  UT\n",
      "\n",
      "\n",
      "    OB2   00 2022-09-03 08:25:12.000  UT (not observable)\n",
      "          03 2022-09-11 21:51:36.000  UT\n",
      "          04 2022-09-14 01:13:12.000  UT\n",
      "\n",
      "\n",
      "    OB3   00 2022-09-03 14:50:24.000  UT (not observable)\n",
      "          01 2022-09-07 21:33:36.000  UT\n",
      "          02 2022-09-10 00:55:12.000  UT\n",
      "\n",
      "\n",
      "    OB4   00 2022-09-03 21:15:36.000  UT\n",
      "          01 2022-09-08 03:58:48.000  UT\n",
      "\n",
      "\n",
      "    OB5   00 2022-09-04 03:40:48.000  UT\n",
      "\n",
      "\n",
      "    OB6   00 2022-09-04 10:06:00.000  UT (not observable)\n",
      "          02 2022-09-10 20:10:48.000  UT\n",
      "          03 2022-09-12 23:32:24.000  UT\n",
      "\n",
      "\n",
      "    OB7   00 2022-09-04 16:31:12.000  UT (not observable)\n",
      "          01 2022-09-08 23:14:24.000  UT\n",
      "          02 2022-09-11 02:36:00.000  UT\n",
      "\n",
      "\n",
      "    OB8   00 2022-09-04 22:56:24.000  UT\n",
      "\n",
      "\n"
     ]
    }
   ],
   "source": [
    "location = 'Roque de los Muchachos, La Palma'\n",
    "\n",
    "def compute_phases(time, location, period, num_epochs, phase_tolerance, max_date, ra, dec, name, twilight='nautical',\n",
    "                      alt_min=10, alt_max=90, airmass_max=2.5, save_table=True):\n",
    "    '''\n",
    "    Computes dates for binary stars follow-up observations\n",
    "    \n",
    "    time:       time of first observation\n",
    "    period:     Orbital period in days\n",
    "    location:   Observer's locations as in Astropy's EarthLocation.get_site_names()\n",
    "    num_epochs: Number of epochs to observe covering the full orbital period\n",
    "    max_date:   Maximum date to which phases will be computed\n",
    "    ra:         Right asencion of target\n",
    "    dec:        Decliination of target\n",
    "    name:       Name of the target\n",
    "    '''\n",
    "    \n",
    "    if twilight=='civil':\n",
    "         twilight_type = AtNightConstraint.twilight_civil()\n",
    "    elif twilight=='nautical':\n",
    "        twilight_type = AtNightConstraint.twilight_nautical()\n",
    "    elif twilight=='astronomical':\n",
    "        twilight_type = AtNightConstraint.twilight_astronomical()\n",
    "    \n",
    "    object_coords = SkyCoord(ra, dec, unit=(u.hourangle, u.deg))\n",
    "    target = FixedTarget(object_coords, name='Target')\n",
    "\n",
    "    coords = EarthLocation.of_site(location)  \n",
    "    observer_location = Observer.at_site(location)\n",
    "    # current_ut = Time('2022-09-04 21:25:15', scale='utc', location=coords)\n",
    "    # current_st = Time('2022-09-04 19:09:38', scale='utc', location=coords)\n",
    "    # LST_conv = current_ut - current_st\n",
    "    \n",
    "    first_epoch = Time(time, scale='utc', location=coords)\n",
    "    max_date = Time(max_date, scale='utc', location=coords)\n",
    "    \n",
    "    phase = 1/num_epochs\n",
    "    \n",
    "    dP = phase*period*u.day\n",
    "    dT = dP.to('hour')\n",
    "    tolerance = dT*phase_tolerance\n",
    "    print('\\n  You have selected', num_epochs, 'epochs spaced by', f\"{dT:.2f}\")\n",
    "    print('  The tolerance of your observations is', f\"{tolerance:.2f}\", 'or', f\"{tolerance.to('minute'):.2f}\", '\\n')\n",
    "\n",
    "    \n",
    "    df_table = pd.\n",
    "    \n",
    "    for i in range(num_epochs):\n",
    "        epochs = first_epoch + i*dT\n",
    "        \n",
    "        epochs_min = epochs - tolerance\n",
    "        epochs_max = epochs + tolerance\n",
    "        time_range = Time([epochs_min, epochs_max])\n",
    "\n",
    "        constraints = [AltitudeConstraint(10*u.deg, 90*u.deg), AirmassConstraint(2.5), twilight_type]\n",
    "        \n",
    "        ever_observable = is_observable(constraints, observer_location, target, time_range=time_range, \\\n",
    "                            time_grid_resolution=0.25*u.hour)\n",
    "       \n",
    "        \n",
    "        if epochs < max_date:\n",
    "            if ever_observable:\n",
    "                print('    OB'+str(i+1)+'   00', epochs, ' UT')         \n",
    "            else:\n",
    "                print('    OB'+str(i+1)+'   00', epochs, ' UT (not observable)')\n",
    "            j=1\n",
    "            next_phase = epochs + (j+1)*period*u.day\n",
    "            while next_phase < max_date:\n",
    "                next_phase = epochs + (j+1)*period*u.day\n",
    "                next_phase_min = next_phase-tolerance\n",
    "                next_phase_max = next_phase+tolerance\n",
    "                ever_observable = is_observable(constraints, observer_location, target, \\\n",
    "                                    time_range=Time([next_phase_min, next_phase_max]), time_grid_resolution=0.25*u.hour)\n",
    "                if ever_observable:\n",
    "                    print('         ', str(j).zfill(2), next_phase, ' UT')\n",
    "                j+=1\n",
    "            print('\\n')           \n",
    "        else:\n",
    "            print('    OB'+str(i+1) + ' beyond maximum date')\n",
    "\n",
    "\n",
    "''' TEST '''\n",
    "\n",
    "ra, dec = '20 18 00.62', '36 39 03.06'\n",
    "time = '2022-09-03 02:00'\n",
    "last_time = '2022-09-12 01:00'\n",
    "period = 2.14\n",
    "compute_phases(time, location, period, 8, 0.1, last_time, ra, dec, 'test')"
   ]
  },
  {
   "cell_type": "code",
   "execution_count": 160,
   "id": "e675b47a-beaa-417d-884a-48004c3b9d15",
   "metadata": {},
   "outputs": [
    {
     "name": "stdout",
     "output_type": "stream",
     "text": [
      "<FixedTarget \"Target\" at SkyCoord (ICRS): (ra, dec) in deg (304.50258333, 36.65085)>\n",
      "[ True]\n"
     ]
    }
   ],
   "source": [
    "ra, dec = '20 18 00.62', '36 39 03.06'\n",
    "object_coords = SkyCoord(ra, dec, unit=(u.hourangle, u.deg))\n",
    "target = FixedTarget(object_coords, name='Target')\n",
    "\n",
    "print(target)\n",
    "\n",
    "time_range = Time([\"2022-09-05 20:15:00\", \"2022-09-05 20:45:00\"])\n",
    "\n",
    "constraints = [AltitudeConstraint(10*u.deg, 90*u.deg),\n",
    "               AirmassConstraint(2.5), AtNightConstraint.twilight_nautical()]\n",
    "\n",
    "observer_location = Observer.at_site(location)\n",
    "\n",
    "ever_observable = is_observable(constraints, observer_location, target, time_range=time_range)\n",
    "\n",
    "print(ever_observable)"
   ]
  },
  {
   "cell_type": "code",
   "execution_count": 44,
   "id": "8593e53d-9ee2-474c-9013-d6ff74f323a9",
   "metadata": {},
   "outputs": [
    {
     "name": "stdout",
     "output_type": "stream",
     "text": [
      "8\n",
      "OB1 UT 2022-09-05 20:15:00.000\n",
      "    UT 2022-09-09 02:58:12.000\n",
      "    UT 2022-09-14 01:03:00.000\n",
      "    UT 2022-09-18 23:07:48.000\n",
      "    UT 2022-09-22 05:51:00.000\n",
      "\n",
      "\n",
      "OB2 UT 2022-09-06 01:10:12.000\n",
      "    UT 2022-09-10 23:15:00.000\n",
      "    UT 2022-09-14 05:58:12.000\n",
      "    UT 2022-09-15 21:19:48.000\n",
      "    UT 2022-09-19 04:03:00.000\n",
      "    UT 2022-09-20 19:24:36.000\n",
      "\n",
      "\n",
      "OB3 UT 2022-09-06 06:05:24.000\n",
      "    UT 2022-09-07 21:27:00.000\n",
      "    UT 2022-09-11 04:10:12.000\n",
      "    UT 2022-09-12 19:31:48.000\n",
      "    UT 2022-09-16 02:15:00.000\n",
      "    UT 2022-09-21 00:19:48.000\n",
      "\n",
      "\n",
      "OB4 UT 2022-09-06 11:00:36.000\n",
      "    UT 2022-09-08 02:22:12.000\n",
      "    UT 2022-09-13 00:27:00.000\n",
      "    UT 2022-09-17 22:31:48.000\n",
      "    UT 2022-09-21 05:15:00.000\n",
      "    UT 2022-09-22 20:36:36.000\n",
      "\n",
      "\n",
      "OB5 UT 2022-09-06 15:55:48.000\n",
      "    UT 2022-09-09 22:39:00.000\n",
      "    UT 2022-09-13 05:22:12.000\n",
      "    UT 2022-09-14 20:43:48.000\n",
      "    UT 2022-09-18 03:27:00.000\n",
      "    UT 2022-09-23 01:31:48.000\n",
      "\n",
      "\n",
      "OB6 UT 2022-09-06 20:51:00.000\n",
      "    UT 2022-09-10 03:34:12.000\n",
      "    UT 2022-09-15 01:39:00.000\n",
      "    UT 2022-09-19 23:43:48.000\n",
      "    UT 2022-09-23 06:27:00.000\n",
      "\n",
      "\n",
      "OB7 UT 2022-09-07 01:46:12.000\n",
      "    UT 2022-09-11 23:51:00.000\n",
      "    UT 2022-09-15 06:34:12.000\n",
      "    UT 2022-09-16 21:55:48.000\n",
      "    UT 2022-09-20 04:39:00.000\n",
      "    UT 2022-09-21 20:00:36.000\n",
      "\n",
      "\n",
      "OB8 UT 2022-09-07 06:41:24.000\n",
      "    UT 2022-09-08 22:03:00.000\n",
      "    UT 2022-09-12 04:46:12.000\n",
      "    UT 2022-09-13 20:07:48.000\n",
      "    UT 2022-09-17 02:51:00.000\n",
      "    UT 2022-09-22 00:55:48.000\n",
      "\n",
      "\n"
     ]
    }
   ],
   "source": [
    "''' TIC 82522241 '''\n",
    "\n",
    "time = '2022-09-05 20:15'\n",
    "period = 1.64\n",
    "compute_phases(time, period, location, 10, 0.125)"
   ]
  },
  {
   "cell_type": "code",
   "execution_count": 266,
   "id": "bf656cad-e65b-4df3-8a6a-26ea6758158c",
   "metadata": {},
   "outputs": [
    {
     "name": "stdout",
     "output_type": "stream",
     "text": [
      "Civel twilight        2022-09-05 19:52:23.665051\n",
      "Nautical twilight     2022-09-05 20:20:26.363508\n",
      "Astronomical twilight 2022-09-05 20:48:57.802385\n",
      "\n",
      "  You have selected 8 epochs spaced by 4.92 h\n",
      "  The tolerance of your observations is 0.49 h or 29.52 min \n",
      "\n",
      "    OB1   00 2022-09-05 20:15:00.000  UT\n",
      "          04 2022-09-14 01:03:00.000  UT\n",
      "          07 2022-09-18 23:07:48.000  UT\n",
      "          10 2022-09-23 21:12:36.000  UT\n",
      "\n",
      "\n",
      "    OB2   00 2022-09-06 01:10:12.000  UT\n",
      "          02 2022-09-10 23:15:00.000  UT\n",
      "          05 2022-09-15 21:19:48.000  UT\n",
      "          13 2022-09-29 00:12:36.000  UT\n",
      "          16 2022-10-03 22:17:24.000  UT\n",
      "\n",
      "\n",
      "    OB3   00 2022-09-06 06:05:24.000  UT (not observable)\n",
      "          00 2022-09-07 21:27:00.000  UT\n",
      "          08 2022-09-21 00:19:48.000  UT\n",
      "          11 2022-09-25 22:24:36.000  UT\n",
      "          14 2022-09-30 20:29:24.000  UT\n",
      "\n",
      "\n",
      "    OB4   00 2022-09-06 11:00:36.000  UT (not observable)\n",
      "          00 2022-09-08 02:22:12.000  UT\n",
      "          03 2022-09-13 00:27:00.000  UT\n",
      "          06 2022-09-17 22:31:48.000  UT\n",
      "          09 2022-09-22 20:36:36.000  UT\n",
      "\n",
      "\n",
      "    OB5   00 2022-09-06 15:55:48.000  UT (not observable)\n",
      "          01 2022-09-09 22:39:00.000  UT\n",
      "          04 2022-09-14 20:43:48.000  UT\n",
      "          12 2022-09-27 23:36:36.000  UT\n",
      "          15 2022-10-02 21:41:24.000  UT\n",
      "\n",
      "\n",
      "    OB6   00 2022-09-06 20:51:00.000  UT\n",
      "          04 2022-09-15 01:39:00.000  UT\n",
      "          07 2022-09-19 23:43:48.000  UT\n",
      "          10 2022-09-24 21:48:36.000  UT\n",
      "          13 2022-09-29 19:53:24.000  UT\n",
      "\n",
      "\n",
      "    OB7   00 2022-09-07 01:46:12.000  UT\n",
      "          02 2022-09-11 23:51:00.000  UT\n",
      "          05 2022-09-16 21:55:48.000  UT\n",
      "          08 2022-09-21 20:00:36.000  UT\n",
      "          13 2022-09-30 00:48:36.000  UT\n",
      "          16 2022-10-04 22:53:24.000  UT\n",
      "\n",
      "\n",
      "    OB8   00 2022-09-07 06:41:24.000  UT (not observable)\n",
      "          00 2022-09-08 22:03:00.000  UT\n",
      "          03 2022-09-13 20:07:48.000  UT\n",
      "          08 2022-09-22 00:55:48.000  UT\n",
      "          11 2022-09-26 23:00:36.000  UT\n",
      "          14 2022-10-01 21:05:24.000  UT\n",
      "\n",
      "\n"
     ]
    }
   ],
   "source": [
    "''' TIC 82522241 '''\n",
    "\n",
    "observer_location = Observer.at_site(location)\n",
    "print('Civel twilight       ', observer_location.twilight_evening_civil(time=Time('2022-09-05 20:15'), which='nearest').datetime)\n",
    "print('Nautical twilight    ', observer_location.twilight_evening_nautical(time=Time('2022-09-05 20:15'), which='nearest').datetime)\n",
    "print('Astronomical twilight', observer_location.twilight_evening_astronomical(time=Time('2022-09-05 20:15'), which='nearest').datetime)\n",
    "\n",
    "ra, dec = '18 50 49.77', '24 43 11.94'\n",
    "time = '2022-09-05 20:15'\n",
    "last_time = '2022-10-04 05:00'\n",
    "period = 1.64\n",
    "compute_phases(time, location, period, 8, 0.1, last_time, ra, dec, 'TIC 82522241', twilight='nautical')"
   ]
  },
  {
   "cell_type": "code",
   "execution_count": 39,
   "id": "e466ed31-d2b3-443a-9b25-5c14b4cec296",
   "metadata": {},
   "outputs": [
    {
     "name": "stdout",
     "output_type": "stream",
     "text": [
      "8\n",
      "OB1 UT 2022-09-04 00:42:00.000\n",
      "    UT 2022-09-09 06:42:00.000\n",
      "    UT 2022-09-11 00:42:00.000\n",
      "    UT 2022-09-16 06:42:00.000\n",
      "    UT 2022-09-18 00:42:00.000\n",
      "\n",
      "\n",
      "OB2 UT 2022-09-04 05:57:00.000\n",
      "    UT 2022-09-05 23:57:00.000\n",
      "    UT 2022-09-11 05:57:00.000\n",
      "    UT 2022-09-12 23:57:00.000\n",
      "    UT 2022-09-18 05:57:00.000\n",
      "    UT 2022-09-19 23:57:00.000\n",
      "\n",
      "\n",
      "OB3 UT 2022-09-04 11:12:00.000\n",
      "    UT 2022-09-06 05:12:00.000\n",
      "    UT 2022-09-07 23:12:00.000\n",
      "    UT 2022-09-13 05:12:00.000\n",
      "    UT 2022-09-14 23:12:00.000\n",
      "    UT 2022-09-20 05:12:00.000\n",
      "    UT 2022-09-21 23:12:00.000\n",
      "\n",
      "\n",
      "OB4 UT 2022-09-04 16:27:00.000\n",
      "    UT 2022-09-08 04:27:00.000\n",
      "    UT 2022-09-09 22:27:00.000\n",
      "    UT 2022-09-15 04:27:00.000\n",
      "    UT 2022-09-16 22:27:00.000\n",
      "    UT 2022-09-22 04:27:00.000\n",
      "\n",
      "\n",
      "OB5 UT 2022-09-04 21:42:00.000\n",
      "    UT 2022-09-10 03:42:00.000\n",
      "    UT 2022-09-11 21:42:00.000\n",
      "    UT 2022-09-17 03:42:00.000\n",
      "    UT 2022-09-18 21:42:00.000\n",
      "\n",
      "\n",
      "OB6 UT 2022-09-05 02:57:00.000\n",
      "    UT 2022-09-06 20:57:00.000\n",
      "    UT 2022-09-12 02:57:00.000\n",
      "    UT 2022-09-13 20:57:00.000\n",
      "    UT 2022-09-19 02:57:00.000\n",
      "    UT 2022-09-20 20:57:00.000\n",
      "\n",
      "\n",
      "OB7 UT 2022-09-05 08:12:00.000\n",
      "    UT 2022-09-07 02:12:00.000\n",
      "    UT 2022-09-08 20:12:00.000\n",
      "    UT 2022-09-14 02:12:00.000\n",
      "    UT 2022-09-15 20:12:00.000\n",
      "    UT 2022-09-21 02:12:00.000\n",
      "    UT 2022-09-22 20:12:00.000\n",
      "\n",
      "\n",
      "OB8 UT 2022-09-05 13:27:00.000\n",
      "    UT 2022-09-09 01:27:00.000\n",
      "    UT 2022-09-10 19:27:00.000\n",
      "    UT 2022-09-16 01:27:00.000\n",
      "    UT 2022-09-17 19:27:00.000\n",
      "    UT 2022-09-23 01:27:00.000\n",
      "\n",
      "\n"
     ]
    }
   ],
   "source": [
    "''' TIC 377618231 '''\n",
    "\n",
    "time = '2022-09-04 00:42'\n",
    "period = 1.75\n",
    "compute_phases(time, period, location, 10, 0.125)"
   ]
  },
  {
   "cell_type": "code",
   "execution_count": 40,
   "id": "155476e5-125e-4b58-a052-abf9ae03001c",
   "metadata": {},
   "outputs": [
    {
     "name": "stdout",
     "output_type": "stream",
     "text": [
      "8\n",
      "OB1 UT 2022-09-04 00:32:00.000\n",
      "    UT 2022-09-05 06:32:00.000\n",
      "    UT 2022-09-09 00:32:00.000\n",
      "    UT 2022-09-10 06:32:00.000\n",
      "    UT 2022-09-14 00:32:00.000\n",
      "    UT 2022-09-15 06:32:00.000\n",
      "\n",
      "\n",
      "OB2 UT 2022-09-04 04:17:00.000\n",
      "    UT 2022-09-07 22:17:00.000\n",
      "    UT 2022-09-09 04:17:00.000\n",
      "    UT 2022-09-12 22:17:00.000\n",
      "    UT 2022-09-14 04:17:00.000\n",
      "\n",
      "\n",
      "OB3 UT 2022-09-04 08:02:00.000\n",
      "    UT 2022-09-06 20:02:00.000\n",
      "    UT 2022-09-08 02:02:00.000\n",
      "    UT 2022-09-11 20:02:00.000\n",
      "    UT 2022-09-13 02:02:00.000\n",
      "    UT 2022-09-16 20:02:00.000\n",
      "\n",
      "\n",
      "OB4 UT 2022-09-04 11:47:00.000\n",
      "    UT 2022-09-06 23:47:00.000\n",
      "    UT 2022-09-08 05:47:00.000\n",
      "    UT 2022-09-11 23:47:00.000\n",
      "    UT 2022-09-13 05:47:00.000\n",
      "    UT 2022-09-16 23:47:00.000\n",
      "\n",
      "\n",
      "OB5 UT 2022-09-04 15:32:00.000\n",
      "    UT 2022-09-05 21:32:00.000\n",
      "    UT 2022-09-07 03:32:00.000\n",
      "    UT 2022-09-10 21:32:00.000\n",
      "    UT 2022-09-12 03:32:00.000\n",
      "    UT 2022-09-15 21:32:00.000\n",
      "    UT 2022-09-17 03:32:00.000\n",
      "\n",
      "\n",
      "OB6 UT 2022-09-04 19:17:00.000\n",
      "    UT 2022-09-06 01:17:00.000\n",
      "    UT 2022-09-11 01:17:00.000\n",
      "    UT 2022-09-14 19:17:00.000\n",
      "    UT 2022-09-16 01:17:00.000\n",
      "\n",
      "\n",
      "OB7 UT 2022-09-04 23:02:00.000\n",
      "    UT 2022-09-06 05:02:00.000\n",
      "    UT 2022-09-09 23:02:00.000\n",
      "    UT 2022-09-11 05:02:00.000\n",
      "    UT 2022-09-14 23:02:00.000\n",
      "    UT 2022-09-16 05:02:00.000\n",
      "\n",
      "\n",
      "OB8 UT 2022-09-05 02:47:00.000\n",
      "    UT 2022-09-08 20:47:00.000\n",
      "    UT 2022-09-10 02:47:00.000\n",
      "    UT 2022-09-13 20:47:00.000\n",
      "    UT 2022-09-15 02:47:00.000\n",
      "\n",
      "\n"
     ]
    }
   ],
   "source": [
    "''' TIC 344456744 '''\n",
    "\n",
    "time = '2022-09-04 00:32'\n",
    "period = 1.25\n",
    "compute_phases(time, period, location, 10, 0.125)"
   ]
  },
  {
   "cell_type": "code",
   "execution_count": 45,
   "id": "31c7a156-a74f-4e7a-94fb-6eeb4854c2ea",
   "metadata": {},
   "outputs": [
    {
     "name": "stdout",
     "output_type": "stream",
     "text": [
      "8\n",
      "OB1 UT 2022-09-03 22:10:00.000\n",
      "    UT 2022-09-09 03:26:48.000\n",
      "    UT 2022-09-10 21:12:24.000\n",
      "    UT 2022-09-16 02:29:12.000\n",
      "    UT 2022-09-17 20:14:48.000\n",
      "\n",
      "\n",
      "OB2 UT 2022-09-04 03:23:12.000\n",
      "    UT 2022-09-05 21:08:48.000\n",
      "    UT 2022-09-11 02:25:36.000\n",
      "    UT 2022-09-12 20:11:12.000\n",
      "    UT 2022-09-18 01:28:00.000\n",
      "    UT 2022-09-19 19:13:36.000\n",
      "\n",
      "\n",
      "OB3 UT 2022-09-04 08:36:24.000\n",
      "    UT 2022-09-06 02:22:00.000\n",
      "    UT 2022-09-07 20:07:36.000\n",
      "    UT 2022-09-13 01:24:24.000\n",
      "    UT 2022-09-18 06:41:12.000\n",
      "    UT 2022-09-20 00:26:48.000\n",
      "\n",
      "\n",
      "OB4 UT 2022-09-04 13:49:36.000\n",
      "    UT 2022-09-08 01:20:48.000\n",
      "    UT 2022-09-13 06:37:36.000\n",
      "    UT 2022-09-15 00:23:12.000\n",
      "    UT 2022-09-20 05:40:00.000\n",
      "    UT 2022-09-21 23:25:36.000\n",
      "\n",
      "\n",
      "OB5 UT 2022-09-04 19:02:48.000\n",
      "    UT 2022-09-08 06:34:00.000\n",
      "    UT 2022-09-10 00:19:36.000\n",
      "    UT 2022-09-15 05:36:24.000\n",
      "    UT 2022-09-16 23:22:00.000\n",
      "    UT 2022-09-22 04:38:48.000\n",
      "\n",
      "\n",
      "OB6 UT 2022-09-05 00:16:00.000\n",
      "    UT 2022-09-10 05:32:48.000\n",
      "    UT 2022-09-11 23:18:24.000\n",
      "    UT 2022-09-17 04:35:12.000\n",
      "    UT 2022-09-18 22:20:48.000\n",
      "\n",
      "\n",
      "OB7 UT 2022-09-05 05:29:12.000\n",
      "    UT 2022-09-06 23:14:48.000\n",
      "    UT 2022-09-12 04:31:36.000\n",
      "    UT 2022-09-13 22:17:12.000\n",
      "    UT 2022-09-19 03:34:00.000\n",
      "    UT 2022-09-20 21:19:36.000\n",
      "\n",
      "\n",
      "OB8 UT 2022-09-05 10:42:24.000\n",
      "    UT 2022-09-07 04:28:00.000\n",
      "    UT 2022-09-08 22:13:36.000\n",
      "    UT 2022-09-14 03:30:24.000\n",
      "    UT 2022-09-15 21:16:00.000\n",
      "    UT 2022-09-21 02:32:48.000\n",
      "    UT 2022-09-22 20:18:24.000\n",
      "\n",
      "\n"
     ]
    }
   ],
   "source": [
    "''' HD 16 5921 '''\n",
    "\n",
    "time = '2022-09-03 22:10'\n",
    "period = 1.74\n",
    "compute_phases(time, period, location, 10, 0.125)"
   ]
  },
  {
   "cell_type": "code",
   "execution_count": 282,
   "id": "abd405a8-746c-4069-97bd-bc93d6a88e4c",
   "metadata": {},
   "outputs": [
    {
     "name": "stdout",
     "output_type": "stream",
     "text": [
      "\n",
      "  You have selected 32 epochs spaced by 5.13 h\n",
      "  The tolerance of your observations is 0.51 h or 30.78 min \n",
      "\n",
      "    OB1   00 2022-09-07 23:06:00.000  UT\n",
      "\n",
      "\n",
      "    OB2   00 2022-09-08 04:13:48.000  UT\n",
      "\n",
      "\n",
      "    OB3   00 2022-09-08 09:21:36.000  UT (not observable)\n",
      "\n",
      "\n",
      "    OB4   00 2022-09-08 14:29:24.000  UT (not observable)\n",
      "\n",
      "\n",
      "    OB5   00 2022-09-08 19:37:12.000  UT (not observable)\n",
      "\n",
      "\n",
      "    OB6   00 2022-09-09 00:45:00.000  UT\n",
      "\n",
      "\n",
      "    OB7   00 2022-09-09 05:52:48.000  UT (not observable)\n",
      "\n",
      "\n",
      "    OB8   00 2022-09-09 11:00:36.000  UT (not observable)\n",
      "\n",
      "\n",
      "    OB9   00 2022-09-09 16:08:24.000  UT (not observable)\n",
      "\n",
      "\n",
      "    OB10   00 2022-09-09 21:16:12.000  UT\n",
      "\n",
      "\n",
      "    OB11   00 2022-09-10 02:24:00.000  UT\n",
      "\n",
      "\n",
      "    OB12   00 2022-09-10 07:31:48.000  UT (not observable)\n",
      "\n",
      "\n",
      "    OB13   00 2022-09-10 12:39:36.000  UT (not observable)\n",
      "\n",
      "\n",
      "    OB14   00 2022-09-10 17:47:24.000  UT (not observable)\n",
      "\n",
      "\n",
      "    OB15   00 2022-09-10 22:55:12.000  UT\n",
      "\n",
      "\n",
      "    OB16   00 2022-09-11 04:03:00.000  UT\n",
      "\n",
      "\n",
      "    OB17   00 2022-09-11 09:10:48.000  UT (not observable)\n",
      "\n",
      "\n",
      "    OB18   00 2022-09-11 14:18:36.000  UT (not observable)\n",
      "\n",
      "\n",
      "    OB19   00 2022-09-11 19:26:24.000  UT (not observable)\n",
      "\n",
      "\n",
      "    OB20   00 2022-09-12 00:34:12.000  UT\n",
      "\n",
      "\n",
      "    OB21 beyond maximum date\n",
      "    OB22 beyond maximum date\n",
      "    OB23 beyond maximum date\n",
      "    OB24 beyond maximum date\n",
      "    OB25 beyond maximum date\n",
      "    OB26 beyond maximum date\n",
      "    OB27 beyond maximum date\n",
      "    OB28 beyond maximum date\n",
      "    OB29 beyond maximum date\n",
      "    OB30 beyond maximum date\n",
      "    OB31 beyond maximum date\n",
      "    OB32 beyond maximum date\n"
     ]
    }
   ],
   "source": [
    "''' [NH52] 63 '''\n",
    "\n",
    "time = '2022-09-07 23:06'\n",
    "last_time = '2022-09-12 01:00'\n",
    "ra, dec = '20 18 00.62', '36 39 03.06'\n",
    "\n",
    "period = 6.84\n",
    "compute_phases(time, location, period, 32, 0.1, last_time, ra, dec, '[NH52] 63', twilight='nautical')"
   ]
  },
  {
   "cell_type": "code",
   "execution_count": 133,
   "id": "74035f1c-796d-44b7-8f4d-8519374fb52c",
   "metadata": {},
   "outputs": [
    {
     "name": "stdout",
     "output_type": "stream",
     "text": [
      "UT 2022-09-07 20:07:00.000\n",
      "ST 2022-09-07 17:51:23.000 \n",
      "\n",
      "UT 2022-09-08 01:20:12.000\n",
      "ST 2022-09-07 23:04:35.000 \n",
      "\n",
      "UT 2022-09-08 06:33:24.000\n",
      "ST 2022-09-08 04:17:47.000 \n",
      "\n",
      "UT 2022-09-08 22:13:00.000\n",
      "ST 2022-09-08 19:57:23.000 \n",
      "\n",
      "UT 2022-09-09 03:26:12.000\n",
      "ST 2022-09-09 01:10:35.000 \n",
      "\n",
      "UT 2022-09-10 00:19:00.000\n",
      "ST 2022-09-09 22:03:23.000 \n",
      "\n",
      "UT 2022-09-10 05:32:12.000\n",
      "ST 2022-09-10 03:16:35.000 \n",
      "\n",
      "UT 2022-09-10 21:11:48.000\n",
      "ST 2022-09-10 18:56:11.000 \n",
      "\n",
      "UT 2022-09-11 02:25:00.000\n",
      "ST 2022-09-11 00:09:23.000 \n",
      "\n",
      "UT 2022-09-11 23:17:48.000\n",
      "ST 2022-09-11 21:02:11.000 \n",
      "\n"
     ]
    }
   ],
   "source": [
    "time = '2022-09-07 20:07'\n",
    "period = 1.74\n",
    "compute_phases(time, period, location, 20, 0.125)"
   ]
  },
  {
   "cell_type": "code",
   "execution_count": 142,
   "id": "c1c07480-29a5-4285-a1be-30078236335a",
   "metadata": {},
   "outputs": [
    {
     "name": "stdout",
     "output_type": "stream",
     "text": [
      "UT 2022-09-07 05:00:00.000\n",
      "ST 2022-09-07 02:44:23.000 \n",
      "\n",
      "UT 2022-09-08 03:38:14.005\n",
      "ST 2022-09-08 01:22:37.005 \n",
      "\n",
      "UT 2022-09-09 02:16:28.009\n",
      "ST 2022-09-09 00:00:51.009 \n",
      "\n",
      "UT 2022-09-10 00:54:42.014\n",
      "ST 2022-09-09 22:39:05.014 \n",
      "\n",
      "UT 2022-09-10 23:32:56.019\n",
      "ST 2022-09-10 21:17:19.019 \n",
      "\n",
      "UT 2022-09-11 22:11:10.024\n",
      "ST 2022-09-11 19:55:33.024 \n",
      "\n",
      "UT 2022-09-12 20:49:24.028\n",
      "ST 2022-09-12 18:33:47.028 \n",
      "\n",
      "UT 2022-09-13 19:27:38.033\n",
      "ST 2022-09-13 17:12:01.033 \n",
      "\n"
     ]
    }
   ],
   "source": [
    "time = '2022-09-07 05:00'\n",
    "period = 7.545741178\n",
    "compute_phases(time, period, location, 15, 0.125)"
   ]
  },
  {
   "cell_type": "code",
   "execution_count": 94,
   "id": "5f7f74ee-2098-4548-bc75-fd6333050076",
   "metadata": {},
   "outputs": [
    {
     "data": {
      "text/plain": [
       "False"
      ]
     },
     "execution_count": 94,
     "metadata": {},
     "output_type": "execute_result"
    }
   ],
   "source": [
    "observer_location = Observer.at_site('Roque de los Muchachos, La Palma')\n",
    "observer_location.is_night('2022-09-04 19:09:38')"
   ]
  },
  {
   "cell_type": "code",
   "execution_count": 116,
   "id": "c9d41209-3635-4430-ae42-75e97cc2163a",
   "metadata": {},
   "outputs": [
    {
     "data": {
      "text/plain": [
       "'2022-09-06 19:23:30.587'"
      ]
     },
     "execution_count": 116,
     "metadata": {},
     "output_type": "execute_result"
    }
   ],
   "source": [
    "sunset = observer_location.sun_set_time(Time('2022-09-07'), which='nearest')\n",
    "sunset.iso"
   ]
  },
  {
   "cell_type": "code",
   "execution_count": 122,
   "id": "024414a2-5440-431c-bcb1-fd2446afc13a",
   "metadata": {},
   "outputs": [
    {
     "data": {
      "text/plain": [
       "'2022-09-05 06:55:20.198'"
      ]
     },
     "execution_count": 122,
     "metadata": {},
     "output_type": "execute_result"
    }
   ],
   "source": [
    "sunrise = observer_location.sun_rise_time(Time('2022-09-05'), which='nearest')\n",
    "sunrise.iso"
   ]
  },
  {
   "cell_type": "code",
   "execution_count": 79,
   "id": "9ee3b916-9042-4996-b038-97bcc783f46a",
   "metadata": {},
   "outputs": [
    {
     "name": "stdout",
     "output_type": "stream",
     "text": [
      "<Observer: name='lapalma',\n",
      "    location (lon, lat, el)=(-17.879999999999995 deg, 28.758333333333336 deg, 2326.999999998442 m),\n",
      "    timezone=<UTC>>\n"
     ]
    }
   ],
   "source": [
    "print(observer_location)"
   ]
  },
  {
   "cell_type": "code",
   "execution_count": 124,
   "id": "0fb0942a-d095-4064-8e1b-3b6dc1869119",
   "metadata": {},
   "outputs": [
    {
     "data": {
      "text/plain": [
       "True"
      ]
     },
     "execution_count": 124,
     "metadata": {},
     "output_type": "execute_result"
    }
   ],
   "source": [
    "observer_location.is_night('2022-09-07 19:56:48.000')"
   ]
  },
  {
   "cell_type": "code",
   "execution_count": 93,
   "id": "66a6ea4b-1b17-42cb-88f2-4219bd0e59b6",
   "metadata": {},
   "outputs": [
    {
     "data": {
      "text/plain": [
       "['ALMA',\n",
       " 'ATST',\n",
       " 'Anglo-Australian Observatory',\n",
       " 'Apache Point',\n",
       " 'Apache Point Observatory',\n",
       " 'Atacama Large Millimeter Array',\n",
       " 'BAO',\n",
       " 'BBSO',\n",
       " 'Beijing XingLong Observatory',\n",
       " 'Big Bear Solar Observatory',\n",
       " 'Black Moshannon Observatory',\n",
       " 'CHARA',\n",
       " 'CHIME',\n",
       " 'Canada-France-Hawaii Telescope',\n",
       " 'Canadian Hydrogen Intensity Mapping Experiment',\n",
       " 'Catalina Observatory',\n",
       " 'Catalina Observatory: 61 inch telescope',\n",
       " 'Cerro Pachon',\n",
       " 'Cerro Paranal',\n",
       " 'Cerro Tololo',\n",
       " 'Cerro Tololo Interamerican Observatory',\n",
       " 'Cima Ekar 182 cm Telescope',\n",
       " 'Cima Ekar Observing Station',\n",
       " 'DCT',\n",
       " 'DKIST',\n",
       " 'DRAO',\n",
       " 'DRAO 26m Telescope',\n",
       " 'Daniel K. Inouye Solar Telescope',\n",
       " 'Discovery Channel Telescope',\n",
       " 'Dominion Astrophysical Observatory',\n",
       " 'Dominion Radio Astrophysical Observatory',\n",
       " 'G1',\n",
       " 'GBT',\n",
       " 'GEO',\n",
       " 'GEO600 Gravitational Wave Detector',\n",
       " 'GEO_600',\n",
       " 'Gemini North',\n",
       " 'Gemini South',\n",
       " 'Green Bank Telescope',\n",
       " 'H1',\n",
       " 'Hale Telescope',\n",
       " 'Haleakala Observatories',\n",
       " 'Happy Jack',\n",
       " 'IAO',\n",
       " 'Indian Astronomical Observatory',\n",
       " 'JCMT',\n",
       " 'James Clerk Maxwell Telescope',\n",
       " 'Jansky Very Large Array',\n",
       " 'John Galt Telescope',\n",
       " 'K1',\n",
       " 'KAGRA',\n",
       " 'Kamioka Gravitational Wave Detector',\n",
       " 'Keck Observatory',\n",
       " 'Kitt Peak',\n",
       " 'Kitt Peak National Observatory',\n",
       " 'L1',\n",
       " 'LHO',\n",
       " 'LHO_4k',\n",
       " 'LIGO Hanford Observatory',\n",
       " 'LIGO Livingston Observatory',\n",
       " 'LLO',\n",
       " 'LLO_4k',\n",
       " 'La Silla Observatory',\n",
       " 'La Silla Observatory (ESO)',\n",
       " 'Large Binocular Telescope',\n",
       " 'Las Campanas Observatory',\n",
       " 'Lick Observatory',\n",
       " 'Lowell Observatory',\n",
       " 'MDM Observatory',\n",
       " 'MWA',\n",
       " 'Manastash Ridge Observatory',\n",
       " 'McDonald Observatory',\n",
       " 'Medicina',\n",
       " 'Medicina Dish',\n",
       " 'Medicina Radio Telescope',\n",
       " 'Michigan-Dartmouth-MIT Observatory',\n",
       " 'Mount Graham International Observatory',\n",
       " 'Mount Wilson Observatory',\n",
       " 'Mt Graham',\n",
       " 'Mt. Ekar 182 cm Telescope',\n",
       " 'Mt. Stromlo Observatory',\n",
       " 'Multiple Mirror Telescope',\n",
       " 'Murchison Widefield Array',\n",
       " 'NASA Infrared Telescope Facility',\n",
       " 'NOV',\n",
       " 'NST',\n",
       " 'National Observatory of Venezuela',\n",
       " 'Noto',\n",
       " 'Noto Radio Telescope',\n",
       " 'Observatoire SIRENE',\n",
       " 'Observatoire de Haute Provence',\n",
       " 'Observatorio Astronomico Nacional, San Pedro Martir',\n",
       " 'Observatorio Astronomico Nacional, Tonantzintla',\n",
       " 'Owens Valley Radio Observatory',\n",
       " 'Palomar',\n",
       " 'Paranal Observatory',\n",
       " 'Paranal Observatory (ESO)',\n",
       " 'Roque de los Muchachos',\n",
       " 'Roque de los Muchachos, La Palma',\n",
       " 'Royal Observatory Greenwich',\n",
       " 'SAAO',\n",
       " 'SALT',\n",
       " 'SPO',\n",
       " 'SRT',\n",
       " 'Sac Peak',\n",
       " 'Sacramento Peak',\n",
       " 'Sacramento Peak Observatory',\n",
       " 'Sardinia Radio Telescope',\n",
       " 'Siding Spring Observatory',\n",
       " 'Southern African Large Telescope',\n",
       " 'Subaru',\n",
       " 'Subaru Telescope',\n",
       " 'Sunspot',\n",
       " 'Sutherland',\n",
       " 'TUBITAK National Observatory',\n",
       " 'TUG',\n",
       " 'The Hale Telescope',\n",
       " 'UKIRT',\n",
       " 'United Kingdom Infrared Telescope',\n",
       " 'V1',\n",
       " 'VIRGO',\n",
       " 'Vainu Bappu Observatory',\n",
       " 'Very Large Array',\n",
       " 'Virgo',\n",
       " 'Virgo Observatory',\n",
       " 'W. M. Keck Observatory',\n",
       " 'Whipple',\n",
       " 'Whipple Observatory',\n",
       " 'aao',\n",
       " 'alma',\n",
       " 'apo',\n",
       " 'bbso',\n",
       " 'bmo',\n",
       " 'cfht',\n",
       " 'chime',\n",
       " 'ctio',\n",
       " 'dao',\n",
       " 'dct',\n",
       " 'dkist',\n",
       " 'drao',\n",
       " 'ekar',\n",
       " 'example_site',\n",
       " 'flwo',\n",
       " 'gbt',\n",
       " 'gemini_north',\n",
       " 'gemini_south',\n",
       " 'gemn',\n",
       " 'gems',\n",
       " 'geo_600',\n",
       " 'greenwich',\n",
       " 'haleakala',\n",
       " 'iao',\n",
       " 'irtf',\n",
       " 'jcmt',\n",
       " 'kagra',\n",
       " 'keck',\n",
       " 'kpno',\n",
       " 'lapalma',\n",
       " 'lasilla',\n",
       " 'lbt',\n",
       " 'lco',\n",
       " 'lho_4k',\n",
       " 'lick',\n",
       " 'llo_4k',\n",
       " 'lowell',\n",
       " 'mcdonald',\n",
       " 'mdm',\n",
       " 'medicina',\n",
       " 'mma',\n",
       " 'mmt',\n",
       " 'mro',\n",
       " 'mso',\n",
       " 'mtbigelow',\n",
       " 'mwa',\n",
       " 'mwo',\n",
       " 'noto',\n",
       " 'ohp',\n",
       " 'ovro',\n",
       " 'paranal',\n",
       " 'salt',\n",
       " 'sirene',\n",
       " 'spm',\n",
       " 'spo',\n",
       " 'srt',\n",
       " 'sso',\n",
       " 'tona',\n",
       " 'tug',\n",
       " 'ukirt',\n",
       " 'vbo',\n",
       " 'virgo',\n",
       " 'vla']"
      ]
     },
     "execution_count": 93,
     "metadata": {},
     "output_type": "execute_result"
    }
   ],
   "source": [
    "EarthLocation.get_site_names()"
   ]
  },
  {
   "cell_type": "code",
   "execution_count": 141,
   "id": "a1a28875-a874-4846-8bc2-1ab56b2b4d94",
   "metadata": {},
   "outputs": [
    {
     "name": "stdout",
     "output_type": "stream",
     "text": [
      "0.0\n",
      "0.125\n",
      "0.25\n",
      "0.375\n",
      "0.5\n",
      "0.625\n",
      "0.75\n",
      "0.875\n"
     ]
    }
   ],
   "source": [
    "for i in range(8):\n",
    "    print(0.125*i)"
   ]
  },
  {
   "cell_type": "code",
   "execution_count": null,
   "id": "9e500fe4-5052-454a-b42b-b8530f319069",
   "metadata": {},
   "outputs": [],
   "source": []
  }
 ],
 "metadata": {
  "kernelspec": {
   "display_name": "Python 3.8.13 ('astroc38')",
   "language": "python",
   "name": "python3"
  },
  "language_info": {
   "codemirror_mode": {
    "name": "ipython",
    "version": 3
   },
   "file_extension": ".py",
   "mimetype": "text/x-python",
   "name": "python",
   "nbconvert_exporter": "python",
   "pygments_lexer": "ipython3",
   "version": "3.8.13"
  },
  "vscode": {
   "interpreter": {
    "hash": "de75958bb0192c4710a628e41bbafca26a056cf1d81f049746a5af62bb827e76"
   }
  }
 },
 "nbformat": 4,
 "nbformat_minor": 5
}
