{
 "cells": [
  {
   "cell_type": "markdown",
   "metadata": {},
   "source": [
    "# Span: Spectral Analysis"
   ]
  },
  {
   "cell_type": "markdown",
   "metadata": {},
   "source": [
    "#### Span is a set of tools to fit spectra the of binary stars simultaneously.\n",
    "\n",
    "#### This means that we need synthetic atmosphere models to do the fit. In this example we use [TLUSTY](http://tlusty.oca.eu) models for stars hotter than 15000 K, and ATLAS 9 models (from [Howarth 2011](https://ui.adsabs.harvard.edu/abs/2011MNRAS.413.1515H/abstract)) for temperatures 10000-15000 K, but you can use your favourite models.\n",
    "\n",
    "#### If you use any of these models in your work (available at minato>models) please use the correct reference:\n",
    "\n",
    "#### - ATLAS 9 late B-type stars grid: [Howarth 2011](https://ui.adsabs.harvard.edu/abs/2011MNRAS.413.1515H/abstract)\n",
    "#### - TLUSTY B-type stars grid: [Lanz & Hubeny 2007](https://ui.adsabs.harvard.edu/abs/2007ApJS..169...83L/abstract)\n",
    "#### - TLUSTY O-type stars grid: [Lanz & Hubeny 2003](https://ui.adsabs.harvard.edu/abs/2003ApJS..146..417L/abstract)"
   ]
  },
  {
   "cell_type": "markdown",
   "metadata": {},
   "source": [
    "Let's start by creating a simple grid of parameters. Parameters currently accepted by Span are: effective temperature (both stars) surface gravity (both stars), rotational velocity (both stars), the light ratio (defined as the contribution of the secondary star), and the Helium enrichment (primary star).\n",
    "\n",
    "Here we'll create a grid similar to the one of [Villaseñor+2023](https://ui.adsabs.harvard.edu/abs/2023arXiv230707766V/abstract) but less dense. How dense and broad is your grid will depend on the information you have on your binary. Note that you can do this using `numpy`, `range`, or a simple list `[]`\n",
    "\n",
    "This grid should run for about 20 minutes, so to make it faster for this example let's fix the rotational velocity of the companion (rotB). It should now be just a couple of minutes."
   ]
  },
  {
   "cell_type": "code",
   "execution_count": 1,
   "metadata": {},
   "outputs": [
    {
     "name": "stdout",
     "output_type": "stream",
     "text": [
      "[0.3, 0.35, 0.4, 0.45]\n",
      "[0.08, 0.09, 0.1, 0.11, 0.12]\n",
      "[10, 11, 12, 13, 14, 15]\n",
      "[20, 22, 24, 26, 28]\n",
      "[20, 30, 40, 50, 60]\n",
      "[22, 24, 26, 28, 30, 32.5]\n",
      "[25, 30, 35, 40]\n",
      "[200]\n"
     ]
    }
   ],
   "source": [
    "import numpy as np\n",
    "\n",
    "teffA = np.linspace(10, 15, 6, dtype=int)\n",
    "loggA = [20, 22, 24, 26, 28]\n",
    "rotA = list(range(20, 70, 10))\n",
    "teffB = [22, 24, 26, 28, 30, 32.5]\n",
    "loggB = [25, 30, 35, 40]\n",
    "# rotB = list(range(0, 600, 100))\n",
    "rotB = [200]\n",
    "lrat = np.linspace(30, 45, 4)/100\n",
    "he2h = np.linspace(8, 12, 5)/100\n",
    "\n",
    "pars_list = [lrat, he2h, teffA, loggA, rotA, teffB, loggB, rotB]\n",
    "\n",
    "gridlist = [list(l) for l in pars_list]\n",
    "for par in gridlist:\n",
    "    print(par)"
   ]
  },
  {
   "cell_type": "markdown",
   "metadata": {},
   "source": [
    ">\n",
    ">#### **Note:** the light ratio is defined as flux_secondary / total_flux\n",
    ">"
   ]
  },
  {
   "cell_type": "markdown",
   "metadata": {},
   "source": [
    "In the next step we need to specify our observed spectra. In our example we're using the disentangled spectra from [Villaseñor+2023](https://ui.adsabs.harvard.edu/abs/2023arXiv230707766V/abstract).\n",
    "\n",
    "And also we have to specify what spectral lines we want to be considered in the fit"
   ]
  },
  {
   "cell_type": "code",
   "execution_count": 2,
   "metadata": {},
   "outputs": [],
   "source": [
    "dsnt_A = './example_spectra/ADIS_lguess_K1K2=0.3_94.0_15.0.txt'\n",
    "dsnt_B = './example_spectra/BDIS_lguess_K1K2=0.3_94.0_15.0.txt'\n",
    "\n",
    "select_linesA = [4026, 4102, 4121, 4144, 4267, 4340, 4388, 4471, 4553]\n",
    "select_linesB = [4026, 4102, 4121, 4144, 4267, 4340, 4388, 4553]"
   ]
  },
  {
   "cell_type": "markdown",
   "metadata": {},
   "source": [
    "We will now use `span.atmfit` to create an object containing all the previous information and we'll use `compute_chi2` to do the actual fit"
   ]
  },
  {
   "cell_type": "code",
   "execution_count": 3,
   "metadata": {},
   "outputs": [
    {
     "name": "stdout",
     "output_type": "stream",
     "text": [
      "\n",
      " ##### Computing chi^2 for grid #####\n",
      "\n",
      "\n",
      "#     Warning: you are using an initial light ratio of 0.3 \n",
      "\n"
     ]
    },
    {
     "ename": "ValueError",
     "evalue": "operands could not be broadcast together with shapes (1150,) (1180,) ",
     "output_type": "error",
     "traceback": [
      "\u001b[0;31m---------------------------------------------------------------------------\u001b[0m",
      "\u001b[0;31mValueError\u001b[0m                                Traceback (most recent call last)",
      "Cell \u001b[0;32mIn [3], line 4\u001b[0m\n\u001b[1;32m      1\u001b[0m \u001b[38;5;28;01mfrom\u001b[39;00m \u001b[38;5;21;01mminato\u001b[39;00m \u001b[38;5;28;01mimport\u001b[39;00m span \u001b[38;5;28;01mas\u001b[39;00m sp\n\u001b[1;32m      3\u001b[0m fit_obj \u001b[38;5;241m=\u001b[39m sp\u001b[38;5;241m.\u001b[39matmfit(gridlist, dsnt_A, dsnt_B, lrat0\u001b[38;5;241m=\u001b[39m\u001b[38;5;241m0.3\u001b[39m)\n\u001b[0;32m----> 4\u001b[0m df_results \u001b[38;5;241m=\u001b[39m \u001b[43mfit_obj\u001b[49m\u001b[38;5;241;43m.\u001b[39;49m\u001b[43mcompute_chi2\u001b[49m\u001b[43m(\u001b[49m\u001b[43mselect_linesA\u001b[49m\u001b[43m,\u001b[49m\u001b[43m \u001b[49m\u001b[43mselect_linesB\u001b[49m\u001b[43m)\u001b[49m\n\u001b[1;32m      5\u001b[0m display(df_results)\n",
      "File \u001b[0;32m~/Science/github/jvillasr/MINATO/minato/span.py:131\u001b[0m, in \u001b[0;36matmfit.compute_chi2\u001b[0;34m(self, dic_lines_A, dic_lines_B)\u001b[0m\n\u001b[1;32m    129\u001b[0m modA_f_interp_hefrac \u001b[39m=\u001b[39m \u001b[39mself\u001b[39m\u001b[39m.\u001b[39mHe2H_ratio(dst_A_w_slc, modA_f_interp, heini, he, usr_dicA, join\u001b[39m=\u001b[39m\u001b[39mTrue\u001b[39;00m)\n\u001b[1;32m    130\u001b[0m ndataA \u001b[39m=\u001b[39m \u001b[39mlen\u001b[39m(modA_f_interp_hefrac)\n\u001b[0;32m--> 131\u001b[0m chi2A \u001b[39m=\u001b[39m \u001b[39mself\u001b[39;49m\u001b[39m.\u001b[39;49mchi2(dst_A_f_slc, modA_f_interp_hefrac)\n\u001b[1;32m    132\u001b[0m \u001b[39mfor\u001b[39;00m TB \u001b[39min\u001b[39;00m \u001b[39mself\u001b[39m\u001b[39m.\u001b[39mgrid[\u001b[39m5\u001b[39m]:\n\u001b[1;32m    133\u001b[0m     \u001b[39mfor\u001b[39;00m gB \u001b[39min\u001b[39;00m \u001b[39mself\u001b[39m\u001b[39m.\u001b[39mgrid[\u001b[39m6\u001b[39m]:\n",
      "File \u001b[0;32m~/Science/github/jvillasr/MINATO/minato/span.py:384\u001b[0m, in \u001b[0;36matmfit.chi2\u001b[0;34m(self, obs, exp)\u001b[0m\n\u001b[1;32m    382\u001b[0m \u001b[39mself\u001b[39m\u001b[39m.\u001b[39mobs \u001b[39m=\u001b[39m obs\n\u001b[1;32m    383\u001b[0m \u001b[39mself\u001b[39m\u001b[39m.\u001b[39mexp \u001b[39m=\u001b[39m exp\n\u001b[0;32m--> 384\u001b[0m \u001b[39mreturn\u001b[39;00m np\u001b[39m.\u001b[39msum(((obs\u001b[39m-\u001b[39;49mexp)\u001b[39m*\u001b[39m\u001b[39m*\u001b[39m\u001b[39m2\u001b[39m)\u001b[39m/\u001b[39mexp)\n",
      "\u001b[0;31mValueError\u001b[0m: operands could not be broadcast together with shapes (1150,) (1180,) "
     ]
    }
   ],
   "source": [
    "from minato import span as sp\n",
    "\n",
    "fit_obj = sp.atmfit(gridlist, dsnt_A, dsnt_B, lrat0=0.3)\n",
    "df_results = fit_obj.compute_chi2(select_linesA, select_linesB)\n",
    "display(df_results)"
   ]
  },
  {
   "cell_type": "markdown",
   "metadata": {},
   "source": [
    "Now that we have our dataframe with the results, we should save it to work with it later if we want to. Since this can get very heavy, I recommend to use the feather format"
   ]
  },
  {
   "cell_type": "code",
   "execution_count": 4,
   "metadata": {},
   "outputs": [],
   "source": [
    "df_results.to_feather('atmfit_results.feather')"
   ]
  },
  {
   "cell_type": "markdown",
   "metadata": {},
   "source": [
    "See the tutorial \"__Working with atmfit results__\" to see how to get the best-fitting parameters"
   ]
  }
 ],
 "metadata": {
  "kernelspec": {
   "display_name": "Python 3.8.13 ('astroc38')",
   "language": "python",
   "name": "python3"
  },
  "language_info": {
   "codemirror_mode": {
    "name": "ipython",
    "version": 3
   },
   "file_extension": ".py",
   "mimetype": "text/x-python",
   "name": "python",
   "nbconvert_exporter": "python",
   "pygments_lexer": "ipython3",
   "version": "3.8.13"
  },
  "orig_nbformat": 4,
  "vscode": {
   "interpreter": {
    "hash": "de75958bb0192c4710a628e41bbafca26a056cf1d81f049746a5af62bb827e76"
   }
  }
 },
 "nbformat": 4,
 "nbformat_minor": 2
}
