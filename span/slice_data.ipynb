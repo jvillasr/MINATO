{
 "cells": [
  {
   "cell_type": "code",
   "execution_count": 101,
   "metadata": {},
   "outputs": [],
   "source": [
    "import pandas as pd\n",
    "import numpy as np\n",
    "from time import time\n",
    "import matplotlib.pyplot as plt"
   ]
  },
  {
   "cell_type": "code",
   "execution_count": 12,
   "metadata": {},
   "outputs": [],
   "source": [
    "def slicedata(x_data, y_data, lines):\n",
    "    '''Slices data given a dictionary of spectral lines and wavelength ranges'''\n",
    "    lines_dic = {\n",
    "                    4026: { 'region':[4005, 4033], 'title':'He I $\\lambda$4009/26'},\n",
    "                    4102: { 'region':[4084-20, 4117], 'title':'H$\\delta$'},\n",
    "                    4121: { 'region':[4117, 4135], 'title':'He I $\\lambda$4121, Si II $\\lambda$4128/32'},\n",
    "                    4144: { 'region':[4137, 4151], 'title':'He I $\\lambda$414'},\n",
    "                    4267: { 'region':[4260, 4275], 'title':'C II $\\lambda$4267'},\n",
    "                    4340: { 'region':[4320, 4362], 'title':'H$\\gamma$'},\n",
    "                    4388: { 'region':[4380, 4396], 'title':'He I $\\lambda$4388'},\n",
    "                    4471: { 'region':[4465, 4485], 'title':'He I $\\lambda$4471, Mg II $\\lambda$4481'},\n",
    "                    4553: { 'region':[4536, 4560], 'title':'Fe II, Si III'} }\n",
    "    dic = { line: lines_dic[line] for line in lines }\n",
    "    # self.x_data = x_data\n",
    "    # self.y_data = y_data\n",
    "    # print(type())\n",
    "    # self.dictionary = dictionary\n",
    "    x_data = pd.Series(x_data)\n",
    "    y_data = pd.Series(y_data)\n",
    "    x_data_sliced = []\n",
    "    y_data_sliced = []\n",
    "    for line in dic:\n",
    "        reg = dic[line]['region']\n",
    "        cond = (x_data > reg[0]) & (x_data < reg[1])\n",
    "        x_data_sliced.append(np.array(x_data[cond]))\n",
    "        y_data_sliced.append(np.array(y_data[cond]))\n",
    "    return x_data_sliced, y_data_sliced"
   ]
  },
  {
   "cell_type": "code",
   "execution_count": 7,
   "metadata": {},
   "outputs": [],
   "source": [
    "dsnt_A = '/Users/jaime/Science/KUL_postdoc/BBC/291/tomer/ADIS_lguess_K1K2=0.3_94.0_15.0_renorm.txt'\n",
    "dsnt_B = '/Users/jaime/Science/KUL_postdoc/BBC/291/tomer/BDIS_lguess_K1K2=0.3_94.0_15.0.txt'\n",
    "\n",
    "dic_lines_A = [4026, 4102, 4121, 4144, 4267, 4340, 4388, 4471, 4553]\n",
    "dic_lines_B = [4026, 4102, 4121, 4144, 4267, 4340, 4388, 4553]\n"
   ]
  },
  {
   "cell_type": "code",
   "execution_count": 18,
   "metadata": {},
   "outputs": [
    {
     "name": "stdout",
     "output_type": "stream",
     "text": [
      "0.01869678497314453\n",
      "<class 'list'> <class 'numpy.ndarray'>\n"
     ]
    }
   ],
   "source": [
    "t0 = time()\n",
    "df_dsntA = pd.read_csv(dsnt_A, header=None, sep='\\t')\n",
    "df_dsntB = pd.read_csv(dsnt_B, header=None, sep='\\t')\n",
    "\n",
    "dst_A_w_slc, dst_A_f_slc = slicedata(df_dsntA[0], df_dsntA[1], dic_lines_A)\n",
    "t1 = time()\n",
    "print(t1-t0)\n",
    "\n",
    "print(type(dst_A_w_slc), type(dst_A_w_slc[0]))"
   ]
  },
  {
   "cell_type": "code",
   "execution_count": 131,
   "metadata": {},
   "outputs": [],
   "source": [
    "def slicedata2(x_data, y_data, lines):\n",
    "    '''Slices data given a dictionary of spectral lines and wavelength ranges'''\n",
    "    lines_dic = {\n",
    "                    4026: { 'region':[4005, 4033], 'title':'He I $\\lambda$4009/26'},\n",
    "                    4102: { 'region':[4084-20, 4117], 'title':'H$\\delta$'},\n",
    "                    4121: { 'region':[4117, 4135], 'title':'He I $\\lambda$4121, Si II $\\lambda$4128/32'},\n",
    "                    4144: { 'region':[4137, 4151], 'title':'He I $\\lambda$414'},\n",
    "                    4267: { 'region':[4260, 4275], 'title':'C II $\\lambda$4267'},\n",
    "                    4340: { 'region':[4320, 4362], 'title':'H$\\gamma$'},\n",
    "                    4388: { 'region':[4380, 4396], 'title':'He I $\\lambda$4388'},\n",
    "                    4471: { 'region':[4465, 4485], 'title':'He I $\\lambda$4471, Mg II $\\lambda$4481'},\n",
    "                    4553: { 'region':[4536, 4560], 'title':'Fe II, Si III'} }\n",
    "    dic = { line: lines_dic[line] for line in lines }\n",
    "    # self.x_data = x_data\n",
    "    # self.y_data = y_data\n",
    "    # print(type())\n",
    "    # self.dictionary = dictionary\n",
    "    x_data_sliced = []\n",
    "    y_data_sliced = []\n",
    "    for line in dic:\n",
    "        reg = dic[line]['region']\n",
    "        cond = (x_data > reg[0]) & (x_data < reg[1])\n",
    "        x_data_sliced.extend(x_data[cond])\n",
    "        y_data_sliced.extend(y_data[cond])\n",
    "    return x_data_sliced, y_data_sliced"
   ]
  },
  {
   "cell_type": "code",
   "execution_count": 133,
   "metadata": {},
   "outputs": [
    {
     "name": "stdout",
     "output_type": "stream",
     "text": [
      "0.012885093688964844\n",
      "<class 'list'>\n"
     ]
    }
   ],
   "source": [
    "t0 = time()\n",
    "df_dsntA = pd.read_csv(dsnt_A, header=None, sep='\\t')\n",
    "df_dsntB = pd.read_csv(dsnt_B, header=None, sep='\\t')\n",
    "dst_A_w_slc, dst_A_f_slc = slicedata2(np.array(df_dsntA[0]), np.array(df_dsntA[1]), dic_lines_A)\n",
    "t1 = time()\n",
    "print(t1-t0)\n",
    "\n",
    "\n",
    "print(type(dst_A_w_slc))\n",
    "# plt.plot(dst_A_w_slc, dst_A_f_slc)"
   ]
  },
  {
   "cell_type": "code",
   "execution_count": 62,
   "metadata": {},
   "outputs": [],
   "source": [
    "def slicedata3(x_data, y_data, lines):\n",
    "    '''Slices data given a dictionary of spectral lines and wavelength ranges'''\n",
    "    lines_dic = {\n",
    "                    4026: { 'region':[4005, 4033], 'title':'He I $\\lambda$4009/26'},\n",
    "                    4102: { 'region':[4084-20, 4117], 'title':'H$\\delta$'},\n",
    "                    4121: { 'region':[4117, 4135], 'title':'He I $\\lambda$4121, Si II $\\lambda$4128/32'},\n",
    "                    4144: { 'region':[4137, 4151], 'title':'He I $\\lambda$414'},\n",
    "                    4267: { 'region':[4260, 4275], 'title':'C II $\\lambda$4267'},\n",
    "                    4340: { 'region':[4320, 4362], 'title':'H$\\gamma$'},\n",
    "                    4388: { 'region':[4380, 4396], 'title':'He I $\\lambda$4388'},\n",
    "                    4471: { 'region':[4465, 4485], 'title':'He I $\\lambda$4471, Mg II $\\lambda$4481'},\n",
    "                    4553: { 'region':[4536, 4560], 'title':'Fe II, Si III'} }\n",
    "    dic = { line: lines_dic[line] for line in lines }\n",
    "    # self.x_data = x_data\n",
    "    # self.y_data = y_data\n",
    "    # print(type())\n",
    "    # self.dictionary = dictionary\n",
    "    # x_data_sliced = []\n",
    "    # y_data_sliced = []\n",
    "    # for line in dic:\n",
    "    #     reg = dic[line]['region']\n",
    "    #     cond = (x_data > reg[0]) & (x_data < reg[1])\n",
    "    #     x_data_sliced.append(x_data[cond])\n",
    "    #     y_data_sliced.append(y_data[cond])\n",
    "    x_data_sliced = [x_data[(x_data > dic[line]['region'][0]) & (x_data < dic[line]['region'][1])] for line in dic]\n",
    "    y_data_sliced = [y_data[(y_data > dic[line]['region'][0]) & (y_data < dic[line]['region'][1])] for line in dic]\n",
    "    return x_data_sliced, y_data_sliced"
   ]
  },
  {
   "cell_type": "code",
   "execution_count": 100,
   "metadata": {},
   "outputs": [
    {
     "name": "stdout",
     "output_type": "stream",
     "text": [
      "0.009006023406982422\n",
      "<class 'list'> <class 'numpy.ndarray'>\n"
     ]
    }
   ],
   "source": [
    "t0 = time()\n",
    "df_dsntA = pd.read_csv(dsnt_A, header=None, sep='\\t').to_numpy()\n",
    "df_dsntB = pd.read_csv(dsnt_B, header=None, sep='\\t').to_numpy()\n",
    "\n",
    "dst_A_w_slc, dst_A_f_slc = slicedata3(df_dsntA[0], df_dsntA[1], dic_lines_A)\n",
    "t1 = time()\n",
    "print(t1-t0)\n",
    "\n",
    "\n",
    "print(type(dst_A_w_slc), type(dst_A_w_slc[0]))"
   ]
  },
  {
   "cell_type": "code",
   "execution_count": 135,
   "metadata": {},
   "outputs": [
    {
     "data": {
      "text/plain": [
       "0.1"
      ]
     },
     "execution_count": 135,
     "metadata": {},
     "output_type": "execute_result"
    }
   ],
   "source": [
    "10**(11.-12)"
   ]
  },
  {
   "cell_type": "code",
   "execution_count": 173,
   "metadata": {},
   "outputs": [
    {
     "name": "stdout",
     "output_type": "stream",
     "text": [
      "                0         1\n",
      "0     3960.004318  0.950265\n",
      "1     3960.204318  0.976512\n",
      "2     3960.404319  0.987428\n",
      "3     3960.604319  0.985946\n",
      "4     3960.804319  0.986002\n",
      "...           ...       ...\n",
      "3005  4561.004973  1.001122\n",
      "3006  4561.204974  1.001165\n",
      "3007  4561.404974  1.001071\n",
      "3008  4561.604974  1.000937\n",
      "3009  4561.804974  1.000794\n",
      "\n",
      "[3010 rows x 2 columns]\n"
     ]
    },
    {
     "name": "stderr",
     "output_type": "stream",
     "text": [
      "/var/folders/gh/w4d9qdzx74v86rlpf_gw0p_00000gs/T/ipykernel_52302/2219499473.py:12: ParserWarning: Falling back to the 'python' engine because the 'c' engine does not support regex separators (separators > 1 char and different from '\\s+' are interpreted as regex); you can avoid this warning by specifying engine='python'.\n",
      "  df_dsntB = pd.read_csv(dsnt_B, header=None, sep='\\s')\n"
     ]
    },
    {
     "data": {
      "text/plain": [
       "(4325.0, 4357.0)"
      ]
     },
     "execution_count": 173,
     "metadata": {},
     "output_type": "execute_result"
    },
    {
     "data": {
      "image/png": "[encoded data removed]",
      "text/plain": [
       "<Figure size 800x400 with 2 Axes>"
      ]
     },
     "metadata": {},
     "output_type": "display_data"
    }
   ],
   "source": [
    "def crop_data(x_data, y_data, range_list):\n",
    "    '''Crops a range of wavelength between range_n amd range_n+1\n",
    "        range_list = [[wave0, wave1], [wave3, wave2]]\n",
    "    '''\n",
    "    for range in range_list:\n",
    "        cond = (x_data < range[0]) | (x_data > range[1])\n",
    "        x_data = x_data[cond]\n",
    "        y_data = y_data[cond]\n",
    "    return x_data, y_data\n",
    "\n",
    "df_dsntA = pd.read_csv(dsnt_A, header=None, sep='\\t')\n",
    "df_dsntB = pd.read_csv(dsnt_B, header=None, sep='\\s')\n",
    "print(df_dsntB)\n",
    "x_crop, y_crop = crop_data(df_dsntB[0]-0.2, df_dsntB[1], [[4097, 4105], [4335, 4346]])\n",
    "fig, ax = plt.subplots(1, 2, figsize=(8, 4))\n",
    "ax[0].plot(df_dsntB[0]-0.2, df_dsntB[1])\n",
    "ax[0].plot(x_crop, y_crop)\n",
    "ax[0].set_xlim(4085, 4117)\n",
    "ax[1].plot(df_dsntB[0]-0.2, df_dsntB[1])\n",
    "ax[1].plot(x_crop, y_crop)\n",
    "ax[1].set_xlim(4325, 4357)\n"
   ]
  },
  {
   "cell_type": "code",
   "execution_count": null,
   "metadata": {},
   "outputs": [],
   "source": []
  }
 ],
 "metadata": {
  "kernelspec": {
   "display_name": "Python 3.8.13 ('astroc38')",
   "language": "python",
   "name": "python3"
  },
  "language_info": {
   "codemirror_mode": {
    "name": "ipython",
    "version": 3
   },
   "file_extension": ".py",
   "mimetype": "text/x-python",
   "name": "python",
   "nbconvert_exporter": "python",
   "pygments_lexer": "ipython3",
   "version": "3.8.13"
  },
  "orig_nbformat": 4,
  "vscode": {
   "interpreter": {
    "hash": "de75958bb0192c4710a628e41bbafca26a056cf1d81f049746a5af62bb827e76"
   }
  }
 },
 "nbformat": 4,
 "nbformat_minor": 2
}
